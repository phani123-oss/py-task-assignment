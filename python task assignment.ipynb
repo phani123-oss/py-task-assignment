{
 "cells": [
  {
   "cell_type": "code",
   "execution_count": 3,
   "id": "b1b1936e-2090-48d5-a3bf-a739607fc239",
   "metadata": {},
   "outputs": [
    {
     "data": {
      "text/plain": [
       "[1,\n",
       " 2,\n",
       " 3,\n",
       " 4,\n",
       " 44,\n",
       " 55,\n",
       " 66,\n",
       " True,\n",
       " False,\n",
       " (34, 56, 78, 89, 34),\n",
       " {1, 2, 3},\n",
       " {1: 34, 'key2': [55, 67, 78, 89], 4: (45, 22, 61, 34)},\n",
       " 56,\n",
       " 'data science',\n",
       " 'Machine Learning']"
      ]
     },
     "execution_count": 3,
     "metadata": {},
     "output_type": "execute_result"
    }
   ],
   "source": [
    "#Q1. Create a function which will take a list as an argument and return the product of all the numbers\n",
    "#after creating a flat list.\n",
    "\n",
    "#defining a function as flat list wit argument list\n",
    "def Flat(lst):\n",
    "    #creating empty flat list \n",
    "    FlatList = []\n",
    "    #loop for each element in list\n",
    "    for element in lst:\n",
    "        #checking the type of each element\n",
    "        #if type is list \n",
    "        #append item it in empty list\n",
    "        #else append element\n",
    "        if type(element) is list:\n",
    "            for item in element:\n",
    "                FlatList.append(item)\n",
    "        else:\n",
    "            FlatList.append(element)\n",
    "    return FlatList\n",
    "            \n",
    "Flat([1,2,3,4, [44,55,66, True], False, (34,56,78,89,34), {1,2,3,3,2,1}, {1:34, \"key2\": [55, 67, 78, 89], 4: (45,\n",
    "22, 61, 34)}, [56, 'data science'], 'Machine Learning'])               "
   ]
  },
  {
   "cell_type": "code",
   "execution_count": 8,
   "id": "f4181ab2-4cb5-4a8d-abbf-34429b118ae4",
   "metadata": {},
   "outputs": [
    {
     "data": {
      "text/plain": [
       "'$i$ $w$z$n$t$ $t$o$ $y$e$x$o$m$e$ $z$ $d$z$t$z$ $s$x$i$e$n$t$i$s$t$.$'"
      ]
     },
     "execution_count": 8,
     "metadata": {},
     "output_type": "execute_result"
    }
   ],
   "source": [
    "#Q2. Write a python program for encrypting a message sent to you by your friend. The logic of encryption\n",
    "#should be such that, for a the output should be z. For b, the output should be y. For c, the output should\n",
    "#be x respectively. Also, the whitespace should be replaced with a dollar sign. Keep the punctuation\n",
    "#marks unchanged.\n",
    "\n",
    "#defining a function to encrypt sentence using sentance\n",
    "def encryptedsentence(sentence):\n",
    "    #converting our sentence to lower case using inbuilt keyword lower\n",
    "    new = sentence.lower()\n",
    "    #using replace keyword we chance the letters as we desired and space with $ symbol\n",
    "    encryptedsentence = new.replace('a','z').replace('b','y').replace('c','x').replace('','$')\n",
    "    return encryptedsentence\n",
    "    \n",
    "encryptedsentence('I want to become a Data Scientist.')"
   ]
  },
  {
   "cell_type": "code",
   "execution_count": null,
   "id": "b342846a-47b7-46a0-a27c-c82a79796d21",
   "metadata": {},
   "outputs": [],
   "source": []
  }
 ],
 "metadata": {
  "kernelspec": {
   "display_name": "Python 3 (ipykernel)",
   "language": "python",
   "name": "python3"
  },
  "language_info": {
   "codemirror_mode": {
    "name": "ipython",
    "version": 3
   },
   "file_extension": ".py",
   "mimetype": "text/x-python",
   "name": "python",
   "nbconvert_exporter": "python",
   "pygments_lexer": "ipython3",
   "version": "3.10.8"
  }
 },
 "nbformat": 4,
 "nbformat_minor": 5
}
